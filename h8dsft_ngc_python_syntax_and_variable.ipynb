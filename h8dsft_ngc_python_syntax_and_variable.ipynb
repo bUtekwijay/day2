{
 "cells": [
  {
   "cell_type": "markdown",
   "metadata": {},
   "source": [
    "## Task 1 day 2"
   ]
  },
  {
   "cell_type": "code",
   "execution_count": 14,
   "metadata": {},
   "outputs": [
    {
     "name": "stdout",
     "output_type": "stream",
     "text": [
      "unique customer id: 12\n"
     ]
    }
   ],
   "source": [
    "customer_id = [\n",
    "    'B818','A461','A092','A082','B341','A005','A092','A461',\n",
    "    'B219','B904','A901','A083','B904','A092','B341','B821',\n",
    "    'B341','B821','B904','B818','A901','A083','B818','A082',\n",
    "    'B219','B219','A083','A901','A082','B341','B341','A083',\n",
    "    'A082','B219','B439','A461','A005','A901','B341','A082',\n",
    "    'A083','A461','A083','A901','A461','A083','A082','A083',\n",
    "    'B341','A901','A082','A461','B219','A083','B818','B821',\n",
    "    'A092','B341','A461','A092','A083','B821','A092']\n",
    "\n",
    "# untuk mengeluarkan yg duplikat sama menghitung brpa panjangnya\n",
    "unique_customer_id = len(set(customer_id))\n",
    "\n",
    "print(f\"unique customer id: {unique_customer_id}\")"
   ]
  },
  {
   "cell_type": "markdown",
   "metadata": {},
   "source": [
    "## Task 2 Day 2"
   ]
  },
  {
   "cell_type": "code",
   "execution_count": 3,
   "metadata": {},
   "outputs": [
    {
     "name": "stdout",
     "output_type": "stream",
     "text": [
      "16\n"
     ]
    }
   ],
   "source": [
    "thislist = [1, 4, 9, 16, 25, 36, 49,  64, 81, 100]\n",
    "print(thislist[3])"
   ]
  },
  {
   "cell_type": "code",
   "execution_count": 1,
   "metadata": {},
   "outputs": [
    {
     "name": "stdout",
     "output_type": "stream",
     "text": [
      "[100, 81, 64, 49, 36, 25, 16, 9, 4, 1]\n"
     ]
    }
   ],
   "source": [
    "thislist = [1, 4, 9, 16, 25, 36, 49,  64, 81, 100]\n",
    "thislist.sort(reverse=True)\n",
    "print(thislist)"
   ]
  },
  {
   "cell_type": "code",
   "execution_count": 7,
   "metadata": {},
   "outputs": [
    {
     "name": "stdout",
     "output_type": "stream",
     "text": [
      "[36, 49, 64, 81, 100]\n"
     ]
    }
   ],
   "source": [
    "thislist = [1, 4, 9, 16, 25, 36, 49,  64, 81, 100]\n",
    "print(thislist[5:])"
   ]
  },
  {
   "cell_type": "markdown",
   "metadata": {},
   "source": [
    "## Task 3 day 2"
   ]
  },
  {
   "cell_type": "code",
   "execution_count": 12,
   "metadata": {},
   "outputs": [
    {
     "name": "stdout",
     "output_type": "stream",
     "text": [
      "dict_keys(['Nanggroe Aceh Darussalam', 'Sumatera Selatan', 'Kalimantan Barat', 'Jawa Timur', 'Sulawesi Selatan', 'Maluku'])\n"
     ]
    }
   ],
   "source": [
    "provinsi = {\n",
    "'Nanggroe Aceh Darussalam' : 'Aceh',\n",
    "'Sumatera Selatan' : 'Palembang',\n",
    "'Kalimantan Barat' : 'Pontianak',\n",
    "'Jawa Timur' : 'Madiun',\n",
    "'Sulawesi Selatan' : 'Makassar', \n",
    "'Maluku' :  'Ambon'}\n",
    "\n",
    "daftar_provinsi = provinsi.keys()\n",
    "print(daftar_provinsi)"
   ]
  },
  {
   "cell_type": "code",
   "execution_count": 13,
   "metadata": {},
   "outputs": [
    {
     "name": "stdout",
     "output_type": "stream",
     "text": [
      "{'Nanggroe Aceh Darussalam': 'Aceh', 'Sumatera Selatan': 'Palembang', 'Kalimantan Barat': 'Pontianak', 'Jawa Timur': 'Surabaya', 'Sulawesi Selatan': 'Makassar', 'Maluku': 'Ambon'}\n"
     ]
    }
   ],
   "source": [
    "provinsi ['Jawa Timur'] = 'Surabaya'\n",
    "print(provinsi)"
   ]
  }
 ],
 "metadata": {
  "kernelspec": {
   "display_name": "base",
   "language": "python",
   "name": "python3"
  },
  "language_info": {
   "codemirror_mode": {
    "name": "ipython",
    "version": 3
   },
   "file_extension": ".py",
   "mimetype": "text/x-python",
   "name": "python",
   "nbconvert_exporter": "python",
   "pygments_lexer": "ipython3",
   "version": "3.9.13"
  }
 },
 "nbformat": 4,
 "nbformat_minor": 2
}
